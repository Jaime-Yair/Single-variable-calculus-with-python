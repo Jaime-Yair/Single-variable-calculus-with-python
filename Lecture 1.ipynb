{
 "cells": [
  {
   "cell_type": "markdown",
   "id": "0cdedc5b",
   "metadata": {},
   "source": [
    "#### Example 1\n",
    "\n",
    "$ f(x) =  \\frac{1}{x} $  "
   ]
  },
  {
   "cell_type": "code",
   "execution_count": 1,
   "id": "973021ae",
   "metadata": {},
   "outputs": [],
   "source": [
    "import sympy as sp\n",
    "from sympy import *\n",
    "import matplotlib.pyplot as plt\n",
    "import numpy as np"
   ]
  },
  {
   "cell_type": "code",
   "execution_count": 2,
   "id": "c2506f7f",
   "metadata": {},
   "outputs": [
    {
     "data": {
      "text/latex": [
       "$\\displaystyle - \\frac{1}{x^{2}}$"
      ],
      "text/plain": [
       "-1/x**2"
      ]
     },
     "execution_count": 2,
     "metadata": {},
     "output_type": "execute_result"
    }
   ],
   "source": [
    "var('x')\n",
    "f = 1/x\n",
    "f.diff(x)"
   ]
  },
  {
   "cell_type": "code",
   "execution_count": 3,
   "id": "dcd5f5f8",
   "metadata": {},
   "outputs": [
    {
     "data": {
      "text/plain": [
       "<matplotlib.legend.Legend at 0x1c37ffdbc70>"
      ]
     },
     "execution_count": 3,
     "metadata": {},
     "output_type": "execute_result"
    },
    {
     "data": {
      "image/png": "[encoded data removed]",
      "text/plain": [
       "<Figure size 432x288 with 1 Axes>"
      ]
     },
     "metadata": {
      "needs_background": "light"
     },
     "output_type": "display_data"
    }
   ],
   "source": [
    "# The function\n",
    "def f(x):\n",
    "    return 1/x\n",
    "\n",
    "\n",
    "x = np.linspace(0.1, 2, 1000)\n",
    "\n",
    "# plotting the function\n",
    "plt.plot(x, f(x), color='red', label=r'$1/x$')\n",
    "plt.legend()"
   ]
  },
  {
   "cell_type": "code",
   "execution_count": 4,
   "id": "c18679fd",
   "metadata": {
    "scrolled": true
   },
   "outputs": [
    {
     "name": "stdout",
     "output_type": "stream",
     "text": [
      "cordinates of the tangent:  (1, 1.0)\n",
      "The slope at the chosen point:  -1.0\n"
     ]
    },
    {
     "data": {
      "text/plain": [
       "<matplotlib.legend.Legend at 0x1c3053b1610>"
      ]
     },
     "execution_count": 4,
     "metadata": {},
     "output_type": "execute_result"
    },
    {
     "data": {
      "image/png": "[encoded data removed]",
      "text/plain": [
       "<Figure size 432x288 with 1 Axes>"
      ]
     },
     "metadata": {
      "needs_background": "light"
     },
     "output_type": "display_data"
    }
   ],
   "source": [
    "# Define function\n",
    "def f(x): \n",
    "    return 1/x\n",
    "\n",
    "# Define the derivative\n",
    "def slope(x): \n",
    "    return (-1)/(x**2)\n",
    "\n",
    "# Define x data range \n",
    "x = np.linspace(0.1,5,50)\n",
    "\n",
    "# Choose point to plot tangent line\n",
    "x1 = 1\n",
    "y1 = f(x1)\n",
    "\n",
    "m  = slope(x1)\n",
    "\n",
    "print(\"cordinates of the tangent: \",(x1,y1)) \n",
    "print(\"The slope at the chosen point: \", m)\n",
    "\n",
    "# Define tangent line\n",
    "# y = m*(x - x1) + y1\n",
    "def line(x, x1, y1):\n",
    "    return m*(x - x1) + y1\n",
    "\n",
    "# Define x data range for tangent line\n",
    "xrange = np.linspace(x1-1, x1+1)\n",
    "\n",
    "# Plot the figure\n",
    "plt.figure()\n",
    "plt.plot(x, f(x), label= 'f(x)')\n",
    "plt.scatter(x1, y1, color='C1', s=40)\n",
    "plt.plot(xrange, line(xrange, x1, y1), 'C1--', linewidth = 2)\n",
    "plt.legend()"
   ]
  },
  {
   "cell_type": "markdown",
   "id": "e8af2fef",
   "metadata": {},
   "source": [
    "##### Example 2\n",
    "\n",
    "$ f(x) = x^n $"
   ]
  },
  {
   "cell_type": "code",
   "execution_count": 5,
   "id": "e5eeffca",
   "metadata": {},
   "outputs": [
    {
     "data": {
      "text/latex": [
       "$\\displaystyle 2 x$"
      ],
      "text/plain": [
       "2*x"
      ]
     },
     "execution_count": 5,
     "metadata": {},
     "output_type": "execute_result"
    }
   ],
   "source": [
    "n=2\n",
    "var('x')\n",
    "f = x**n\n",
    "f.diff(x)"
   ]
  },
  {
   "cell_type": "markdown",
   "id": "7ece6345",
   "metadata": {},
   "source": [
    "Polynomials"
   ]
  },
  {
   "cell_type": "code",
   "execution_count": 6,
   "id": "0fdaec7d",
   "metadata": {},
   "outputs": [
    {
     "data": {
      "text/latex": [
       "$\\displaystyle 30 x^{9} + 2 x$"
      ],
      "text/plain": [
       "30*x**9 + 2*x"
      ]
     },
     "execution_count": 6,
     "metadata": {},
     "output_type": "execute_result"
    }
   ],
   "source": [
    "f = x**2 + 3*x**10\n",
    "diff(f,x)"
   ]
  },
  {
   "cell_type": "code",
   "execution_count": null,
   "id": "f1bd5c00",
   "metadata": {},
   "outputs": [],
   "source": []
  }
 ],
 "metadata": {
  "kernelspec": {
   "display_name": "Python 3 (ipykernel)",
   "language": "python",
   "name": "python3"
  },
  "language_info": {
   "codemirror_mode": {
    "name": "ipython",
    "version": 3
   },
   "file_extension": ".py",
   "mimetype": "text/x-python",
   "name": "python",
   "nbconvert_exporter": "python",
   "pygments_lexer": "ipython3",
   "version": "3.9.12"
  }
 },
 "nbformat": 4,
 "nbformat_minor": 5
}
