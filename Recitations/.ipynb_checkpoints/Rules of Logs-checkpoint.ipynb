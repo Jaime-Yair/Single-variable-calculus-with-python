{
 "cells": [
  {
   "cell_type": "code",
   "execution_count": 12,
   "id": "e91eb871",
   "metadata": {},
   "outputs": [],
   "source": [
    "from sympy import *"
   ]
  },
  {
   "cell_type": "code",
   "execution_count": 13,
   "id": "0c5eae7b",
   "metadata": {},
   "outputs": [],
   "source": [
    "# 1"
   ]
  },
  {
   "cell_type": "code",
   "execution_count": 14,
   "id": "a4e137a4",
   "metadata": {},
   "outputs": [],
   "source": [
    "x,y= symbols('x y',positive=True)"
   ]
  },
  {
   "cell_type": "code",
   "execution_count": 16,
   "id": "3c9ef474",
   "metadata": {},
   "outputs": [
    {
     "data": {
      "text/latex": [
       "$\\displaystyle \\log{\\left(x \\right)} + \\log{\\left(y \\right)}$"
      ],
      "text/plain": [
       "log(x) + log(y)"
      ]
     },
     "execution_count": 16,
     "metadata": {},
     "output_type": "execute_result"
    }
   ],
   "source": [
    "expand_log(ln(x*y))"
   ]
  },
  {
   "cell_type": "code",
   "execution_count": 17,
   "id": "8f76c944",
   "metadata": {},
   "outputs": [],
   "source": [
    "# 2"
   ]
  },
  {
   "cell_type": "code",
   "execution_count": 18,
   "id": "642f8ba1",
   "metadata": {},
   "outputs": [
    {
     "data": {
      "text/latex": [
       "$\\displaystyle \\log{\\left(x \\right)} - \\log{\\left(y \\right)}$"
      ],
      "text/plain": [
       "log(x) - log(y)"
      ]
     },
     "execution_count": 18,
     "metadata": {},
     "output_type": "execute_result"
    }
   ],
   "source": [
    "expand_log(ln(x/y))"
   ]
  },
  {
   "cell_type": "code",
   "execution_count": 19,
   "id": "83e5ab5d",
   "metadata": {},
   "outputs": [],
   "source": [
    "# 3"
   ]
  },
  {
   "cell_type": "code",
   "execution_count": 20,
   "id": "4e6c32d0",
   "metadata": {},
   "outputs": [],
   "source": [
    "k= 4"
   ]
  },
  {
   "cell_type": "code",
   "execution_count": 21,
   "id": "37a369fa",
   "metadata": {},
   "outputs": [
    {
     "data": {
      "text/latex": [
       "$\\displaystyle 4 \\log{\\left(x \\right)}$"
      ],
      "text/plain": [
       "4*log(x)"
      ]
     },
     "execution_count": 21,
     "metadata": {},
     "output_type": "execute_result"
    }
   ],
   "source": [
    "expand_log(ln(x**k))"
   ]
  },
  {
   "cell_type": "markdown",
   "id": "64fcd8fd",
   "metadata": {},
   "source": [
    "### Exercise"
   ]
  },
  {
   "cell_type": "code",
   "execution_count": 22,
   "id": "09ead263",
   "metadata": {},
   "outputs": [
    {
     "data": {
      "text/latex": [
       "$\\displaystyle x$"
      ],
      "text/plain": [
       "x"
      ]
     },
     "execution_count": 22,
     "metadata": {},
     "output_type": "execute_result"
    }
   ],
   "source": [
    "var('x', positive=True)"
   ]
  },
  {
   "cell_type": "code",
   "execution_count": 27,
   "id": "7b3ca7bd",
   "metadata": {},
   "outputs": [
    {
     "data": {
      "text/latex": [
       "$\\displaystyle \\sqrt{x} \\sqrt{x + 4}$"
      ],
      "text/plain": [
       "sqrt(x)*sqrt(x + 4)"
      ]
     },
     "execution_count": 27,
     "metadata": {},
     "output_type": "execute_result"
    }
   ],
   "source": [
    "y = sqrt(x*(x+4))\n",
    "y"
   ]
  },
  {
   "cell_type": "code",
   "execution_count": 28,
   "id": "cc7df535",
   "metadata": {},
   "outputs": [
    {
     "data": {
      "text/latex": [
       "$\\displaystyle \\frac{\\sqrt{x}}{2 \\sqrt{x + 4}} + \\frac{\\sqrt{x + 4}}{2 \\sqrt{x}}$"
      ],
      "text/plain": [
       "sqrt(x)/(2*sqrt(x + 4)) + sqrt(x + 4)/(2*sqrt(x))"
      ]
     },
     "execution_count": 28,
     "metadata": {},
     "output_type": "execute_result"
    }
   ],
   "source": [
    "y.diff(x)"
   ]
  },
  {
   "cell_type": "code",
   "execution_count": null,
   "id": "54941491",
   "metadata": {},
   "outputs": [],
   "source": []
  }
 ],
 "metadata": {
  "kernelspec": {
   "display_name": "Python 3 (ipykernel)",
   "language": "python",
   "name": "python3"
  },
  "language_info": {
   "codemirror_mode": {
    "name": "ipython",
    "version": 3
   },
   "file_extension": ".py",
   "mimetype": "text/x-python",
   "name": "python",
   "nbconvert_exporter": "python",
   "pygments_lexer": "ipython3",
   "version": "3.9.12"
  }
 },
 "nbformat": 4,
 "nbformat_minor": 5
}
