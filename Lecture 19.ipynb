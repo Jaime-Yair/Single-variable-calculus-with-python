{
 "cells": [
  {
   "cell_type": "code",
   "execution_count": 10,
   "id": "c1d2e409",
   "metadata": {},
   "outputs": [],
   "source": [
    "from sympy import symbols, limit, diff, sin, cos, log, tan, sqrt, init_printing, plot, integrate, var\n",
    "from mpmath import ln, e, pi"
   ]
  },
  {
   "cell_type": "markdown",
   "id": "be5179b6",
   "metadata": {},
   "source": [
    "### Example 1"
   ]
  },
  {
   "cell_type": "code",
   "execution_count": 11,
   "id": "f7bad114",
   "metadata": {},
   "outputs": [],
   "source": [
    "init_printing()\n",
    "x = symbols('x')"
   ]
  },
  {
   "cell_type": "code",
   "execution_count": 12,
   "id": "43b139db",
   "metadata": {},
   "outputs": [],
   "source": [
    "F =  x**3/3"
   ]
  },
  {
   "cell_type": "code",
   "execution_count": 13,
   "id": "c5e8e72d",
   "metadata": {},
   "outputs": [
    {
     "data": {
      "image/png": "[encoded data removed]",
      "text/latex": [
       "$\\displaystyle x^{2}$"
      ],
      "text/plain": [
       " 2\n",
       "x "
      ]
     },
     "execution_count": 13,
     "metadata": {},
     "output_type": "execute_result"
    }
   ],
   "source": [
    "F.diff(x)"
   ]
  },
  {
   "cell_type": "markdown",
   "id": "7cad2d6d",
   "metadata": {},
   "source": [
    "$$ \\int_a^b x^2 dx $$"
   ]
  },
  {
   "cell_type": "code",
   "execution_count": 14,
   "id": "e1221f4e",
   "metadata": {},
   "outputs": [
    {
     "data": {
      "image/png": "[encoded data removed]",
      "text/latex": [
       "$\\displaystyle \\frac{604}{3}$"
      ],
      "text/plain": [
       "604/3"
      ]
     },
     "execution_count": 14,
     "metadata": {},
     "output_type": "execute_result"
    }
   ],
   "source": [
    "integrate(x ** 2, (x, 5, 9))"
   ]
  },
  {
   "cell_type": "markdown",
   "id": "e48abb5e",
   "metadata": {},
   "source": [
    "### Example 2"
   ]
  },
  {
   "cell_type": "markdown",
   "id": "2bbc0119",
   "metadata": {},
   "source": [
    "$$ \\int_0^\\pi \\sin x \\, dx $$"
   ]
  },
  {
   "cell_type": "code",
   "execution_count": 15,
   "id": "09ed54bd",
   "metadata": {},
   "outputs": [
    {
     "data": {
      "image/png": "[encoded data removed]",
      "text/latex": [
       "$\\displaystyle x$"
      ],
      "text/plain": [
       "x"
      ]
     },
     "execution_count": 15,
     "metadata": {},
     "output_type": "execute_result"
    }
   ],
   "source": [
    "var('x')"
   ]
  },
  {
   "cell_type": "code",
   "execution_count": 16,
   "id": "8ac22a4f",
   "metadata": {},
   "outputs": [
    {
     "data": {
      "image/png": "[encoded data removed]",
      "text/latex": [
       "$\\displaystyle 2.0$"
      ],
      "text/plain": [
       "2.00000000000000"
      ]
     },
     "execution_count": 16,
     "metadata": {},
     "output_type": "execute_result"
    }
   ],
   "source": [
    "integrate(sin(x), (x, 0, pi))"
   ]
  },
  {
   "cell_type": "code",
   "execution_count": 18,
   "id": "a3ea6f96",
   "metadata": {},
   "outputs": [],
   "source": [
    "import matplotlib.pyplot as plt\n",
    "import numpy as np"
   ]
  },
  {
   "cell_type": "code",
   "execution_count": 28,
   "id": "14363e82",
   "metadata": {},
   "outputs": [
    {
     "data": {
      "text/plain": [
       "<matplotlib.legend.Legend at 0x16acd9886a0>"
      ]
     },
     "execution_count": 28,
     "metadata": {},
     "output_type": "execute_result"
    },
    {
     "data": {
      "image/png": "[encoded data removed]",
      "text/plain": [
       "<Figure size 432x288 with 1 Axes>"
      ]
     },
     "metadata": {
      "needs_background": "light"
     },
     "output_type": "display_data"
    }
   ],
   "source": [
    "plt.plot(np.linspace(0,np.pi), np.sin(np.linspace(0,np.pi)), label='sin(x)')\n",
    "plt.xlabel(f'$x$')\n",
    "plt.ylabel(f'$f(x)$')\n",
    "plt.legend()"
   ]
  },
  {
   "cell_type": "markdown",
   "id": "3720b81b",
   "metadata": {},
   "source": [
    "#### Example 3"
   ]
  },
  {
   "cell_type": "markdown",
   "id": "af08b18b",
   "metadata": {},
   "source": [
    "$$ \\int_0^1 x^5 \\, dx $$"
   ]
  },
  {
   "cell_type": "code",
   "execution_count": 29,
   "id": "8f85330c",
   "metadata": {},
   "outputs": [
    {
     "data": {
      "image/png": "[encoded data removed]",
      "text/latex": [
       "$\\displaystyle x$"
      ],
      "text/plain": [
       "x"
      ]
     },
     "execution_count": 29,
     "metadata": {},
     "output_type": "execute_result"
    }
   ],
   "source": [
    "var('x')"
   ]
  },
  {
   "cell_type": "code",
   "execution_count": 30,
   "id": "28193f41",
   "metadata": {},
   "outputs": [
    {
     "data": {
      "image/png": "[encoded data removed]",
      "text/latex": [
       "$\\displaystyle \\frac{1}{6}$"
      ],
      "text/plain": [
       "1/6"
      ]
     },
     "execution_count": 30,
     "metadata": {},
     "output_type": "execute_result"
    }
   ],
   "source": [
    "integrate(x**5,(x,0,1))"
   ]
  },
  {
   "cell_type": "markdown",
   "id": "beb3ce7f",
   "metadata": {},
   "source": [
    "#### Example 4"
   ]
  },
  {
   "cell_type": "markdown",
   "id": "f8b4c9de",
   "metadata": {},
   "source": [
    "$$ \\int_0^{2\\pi} \\sin x \\, dx $$"
   ]
  },
  {
   "cell_type": "code",
   "execution_count": 31,
   "id": "6aea0b2b",
   "metadata": {},
   "outputs": [
    {
     "data": {
      "image/png": "[encoded data removed]",
      "text/latex": [
       "$\\displaystyle x$"
      ],
      "text/plain": [
       "x"
      ]
     },
     "execution_count": 31,
     "metadata": {},
     "output_type": "execute_result"
    }
   ],
   "source": [
    "var('x')"
   ]
  },
  {
   "cell_type": "code",
   "execution_count": 32,
   "id": "78ac0bf2",
   "metadata": {},
   "outputs": [
    {
     "data": {
      "image/png": "[encoded data removed]",
      "text/latex": [
       "$\\displaystyle 0$"
      ],
      "text/plain": [
       "0"
      ]
     },
     "execution_count": 32,
     "metadata": {},
     "output_type": "execute_result"
    }
   ],
   "source": [
    "integrate(sin(x), (x, 0, 2*pi))"
   ]
  },
  {
   "cell_type": "code",
   "execution_count": 63,
   "id": "cfefbd15",
   "metadata": {},
   "outputs": [
    {
     "data": {
      "text/plain": [
       "Text(0, 0.5, 'f($x$)')"
      ]
     },
     "execution_count": 63,
     "metadata": {},
     "output_type": "execute_result"
    },
    {
     "data": {
      "image/png": "[encoded data removed]",
      "text/plain": [
       "<Figure size 432x288 with 1 Axes>"
      ]
     },
     "metadata": {
      "needs_background": "light"
     },
     "output_type": "display_data"
    }
   ],
   "source": [
    "x = np.linspace(0,2*np.pi)\n",
    "\n",
    "plt.plot(x, np.sin(x), label='sin($x$)')\n",
    "plt.xlim(0)\n",
    "plt.axhline(y=0, linestyle='--', alpha=0.3)\n",
    "plt.annotate('+',(1.5,0.5))\n",
    "plt.annotate('-',(4.7,-0.5))\n",
    "plt.legend()\n",
    "plt.xlabel('$x$')\n",
    "plt.ylabel('f($x$)')"
   ]
  },
  {
   "cell_type": "markdown",
   "id": "009bb74f",
   "metadata": {},
   "source": [
    "### Example 7"
   ]
  },
  {
   "cell_type": "markdown",
   "id": "0c7b838c",
   "metadata": {},
   "source": [
    "$$ \\int_1^2 (x^3+2)^4 \\, x^2 \\, dx$$"
   ]
  },
  {
   "cell_type": "code",
   "execution_count": 79,
   "id": "a59dbf74",
   "metadata": {},
   "outputs": [
    {
     "data": {
      "image/png": "[encoded data removed]",
      "text/latex": [
       "$\\displaystyle x$"
      ],
      "text/plain": [
       "x"
      ]
     },
     "execution_count": 79,
     "metadata": {},
     "output_type": "execute_result"
    }
   ],
   "source": [
    "var('x')"
   ]
  },
  {
   "cell_type": "code",
   "execution_count": 82,
   "id": "4f020c6a",
   "metadata": {},
   "outputs": [
    {
     "data": {
      "image/png": "[encoded data removed]",
      "text/latex": [
       "$\\displaystyle \\frac{99757}{15}$"
      ],
      "text/plain": [
       "99757\n",
       "─────\n",
       "  15 "
      ]
     },
     "execution_count": 82,
     "metadata": {},
     "output_type": "execute_result"
    }
   ],
   "source": [
    "integrate((x**3+2)**4 * x**2, (x, 1,2))"
   ]
  },
  {
   "cell_type": "code",
   "execution_count": null,
   "id": "dab1b08b",
   "metadata": {},
   "outputs": [],
   "source": []
  }
 ],
 "metadata": {
  "kernelspec": {
   "display_name": "Python 3 (ipykernel)",
   "language": "python",
   "name": "python3"
  },
  "language_info": {
   "codemirror_mode": {
    "name": "ipython",
    "version": 3
   },
   "file_extension": ".py",
   "mimetype": "text/x-python",
   "name": "python",
   "nbconvert_exporter": "python",
   "pygments_lexer": "ipython3",
   "version": "3.9.12"
  }
 },
 "nbformat": 4,
 "nbformat_minor": 5
}
