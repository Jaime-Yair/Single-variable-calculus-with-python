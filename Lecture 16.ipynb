{
 "cells": [
  {
   "cell_type": "code",
   "execution_count": 1,
   "id": "dbeed046",
   "metadata": {},
   "outputs": [],
   "source": [
    "from sympy import *"
   ]
  },
  {
   "cell_type": "markdown",
   "id": "8ba1475d",
   "metadata": {},
   "source": [
    "##### Example 2\n",
    "\n",
    "$$  ( \\frac{dy}{dx} +x ) \\, y = 0 $$"
   ]
  },
  {
   "cell_type": "code",
   "execution_count": 2,
   "id": "9c39414d",
   "metadata": {},
   "outputs": [
    {
     "data": {
      "text/latex": [
       "$\\displaystyle x$"
      ],
      "text/plain": [
       "x"
      ]
     },
     "execution_count": 2,
     "metadata": {},
     "output_type": "execute_result"
    }
   ],
   "source": [
    "var('x')"
   ]
  },
  {
   "cell_type": "code",
   "execution_count": 3,
   "id": "f4c26670",
   "metadata": {},
   "outputs": [
    {
     "data": {
      "text/latex": [
       "$\\displaystyle f{\\left(x \\right)}$"
      ],
      "text/plain": [
       "f(x)"
      ]
     },
     "execution_count": 3,
     "metadata": {},
     "output_type": "execute_result"
    }
   ],
   "source": [
    "f = Function('f')(x)   # the function\n",
    "f"
   ]
  },
  {
   "cell_type": "code",
   "execution_count": 4,
   "id": "e24a7862",
   "metadata": {},
   "outputs": [
    {
     "data": {
      "text/latex": [
       "$\\displaystyle \\frac{d}{d x} f{\\left(x \\right)}$"
      ],
      "text/plain": [
       "Derivative(f(x), x)"
      ]
     },
     "execution_count": 4,
     "metadata": {},
     "output_type": "execute_result"
    }
   ],
   "source": [
    "f.diff(x)  # taking the derivative of the function"
   ]
  },
  {
   "cell_type": "code",
   "execution_count": 5,
   "id": "852253f2",
   "metadata": {},
   "outputs": [
    {
     "data": {
      "text/latex": [
       "$\\displaystyle x f{\\left(x \\right)} + \\frac{d}{d x} f{\\left(x \\right)} = 0$"
      ],
      "text/plain": [
       "Eq(x*f(x) + Derivative(f(x), x), 0)"
      ]
     },
     "execution_count": 5,
     "metadata": {},
     "output_type": "execute_result"
    }
   ],
   "source": [
    "diff_eq = Eq(f.diff(x) + x*f, 0)   # creating a differential equation\n",
    "diff_eq"
   ]
  },
  {
   "cell_type": "code",
   "execution_count": 6,
   "id": "232adc8b",
   "metadata": {},
   "outputs": [
    {
     "data": {
      "text/latex": [
       "$\\displaystyle 0$"
      ],
      "text/plain": [
       "0"
      ]
     },
     "execution_count": 6,
     "metadata": {},
     "output_type": "execute_result"
    }
   ],
   "source": [
    "diff_eq.rhs   # Getting the right hand side"
   ]
  },
  {
   "cell_type": "code",
   "execution_count": 7,
   "id": "144b5db8",
   "metadata": {},
   "outputs": [
    {
     "data": {
      "text/latex": [
       "$\\displaystyle x f{\\left(x \\right)} + \\frac{d}{d x} f{\\left(x \\right)}$"
      ],
      "text/plain": [
       "x*f(x) + Derivative(f(x), x)"
      ]
     },
     "execution_count": 7,
     "metadata": {},
     "output_type": "execute_result"
    }
   ],
   "source": [
    "diff_eq.lhs   # Getting the left hand side"
   ]
  },
  {
   "cell_type": "code",
   "execution_count": 8,
   "id": "20a04240",
   "metadata": {},
   "outputs": [
    {
     "data": {
      "text/latex": [
       "$\\displaystyle f{\\left(x \\right)} = C_{1} e^{- \\frac{x^{2}}{2}}$"
      ],
      "text/plain": [
       "Eq(f(x), C1*exp(-x**2/2))"
      ]
     },
     "execution_count": 8,
     "metadata": {},
     "output_type": "execute_result"
    }
   ],
   "source": [
    "dsolve(diff_eq)    # Solving the differential equation"
   ]
  },
  {
   "cell_type": "code",
   "execution_count": 9,
   "id": "1b049bed",
   "metadata": {},
   "outputs": [
    {
     "data": {
      "text/latex": [
       "$\\displaystyle f{\\left(x \\right)} = C_{1} e^{- \\frac{x^{2}}{2}}$"
      ],
      "text/plain": [
       "Eq(f(x), C1*exp(-x**2/2))"
      ]
     },
     "execution_count": 9,
     "metadata": {},
     "output_type": "execute_result"
    }
   ],
   "source": [
    "sol = dsolve(diff_eq, f)  # Solving the differential equation\n",
    "sol"
   ]
  },
  {
   "cell_type": "code",
   "execution_count": 10,
   "id": "26d474ed",
   "metadata": {},
   "outputs": [
    {
     "data": {
      "text/plain": [
       "sympy.core.relational.Equality"
      ]
     },
     "execution_count": 10,
     "metadata": {},
     "output_type": "execute_result"
    }
   ],
   "source": [
    "type(sol)  # The type of the solution"
   ]
  },
  {
   "cell_type": "code",
   "execution_count": 11,
   "id": "940aa6d8",
   "metadata": {},
   "outputs": [
    {
     "data": {
      "text/latex": [
       "$\\displaystyle C_{1} e^{- \\frac{x^{2}}{2}}$"
      ],
      "text/plain": [
       "C1*exp(-x**2/2)"
      ]
     },
     "execution_count": 11,
     "metadata": {},
     "output_type": "execute_result"
    }
   ],
   "source": [
    "sol.rhs  # Getting the solution"
   ]
  },
  {
   "cell_type": "code",
   "execution_count": 12,
   "id": "1f110ed2",
   "metadata": {},
   "outputs": [
    {
     "data": {
      "text/plain": [
       "{C1, x}"
      ]
     },
     "execution_count": 12,
     "metadata": {},
     "output_type": "execute_result"
    }
   ],
   "source": [
    "sol.free_symbols"
   ]
  },
  {
   "cell_type": "code",
   "execution_count": 13,
   "id": "e8ec267d",
   "metadata": {},
   "outputs": [
    {
     "data": {
      "text/plain": [
       "(C1, x)"
      ]
     },
     "execution_count": 13,
     "metadata": {},
     "output_type": "execute_result"
    }
   ],
   "source": [
    "C1, x = tuple(sol.free_symbols) \n",
    "C1, x"
   ]
  },
  {
   "cell_type": "code",
   "execution_count": 14,
   "id": "b4ad3515",
   "metadata": {},
   "outputs": [
    {
     "data": {
      "text/latex": [
       "$\\displaystyle \\frac{2}{e^{8}}$"
      ],
      "text/plain": [
       "2*exp(-8)"
      ]
     },
     "execution_count": 14,
     "metadata": {},
     "output_type": "execute_result"
    }
   ],
   "source": [
    "sol.rhs.subs(C1,2).subs(x,4)   # Substitution"
   ]
  },
  {
   "cell_type": "code",
   "execution_count": 15,
   "id": "aa9d4997",
   "metadata": {},
   "outputs": [
    {
     "data": {
      "text/latex": [
       "$\\displaystyle \\frac{2}{e^{8}}$"
      ],
      "text/plain": [
       "2*exp(-8)"
      ]
     },
     "execution_count": 15,
     "metadata": {},
     "output_type": "execute_result"
    }
   ],
   "source": [
    "sol.rhs.subs({C1:2,x:4})  # The same with a dictionary"
   ]
  },
  {
   "cell_type": "code",
   "execution_count": 16,
   "id": "c22b9306",
   "metadata": {},
   "outputs": [],
   "source": [
    "import matplotlib.pyplot as plt\n",
    "import numpy as np"
   ]
  },
  {
   "cell_type": "code",
   "execution_count": 17,
   "id": "97e97696",
   "metadata": {},
   "outputs": [
    {
     "data": {
      "image/png": "[encoded data removed]",
      "text/plain": [
       "<Figure size 432x288 with 1 Axes>"
      ]
     },
     "metadata": {
      "needs_background": "light"
     },
     "output_type": "display_data"
    }
   ],
   "source": [
    "x = np.linspace(-6,6)\n",
    "plt.plot(x,np.exp(-(x**2/2)))\n",
    "plt.grid(linestyle='--',  alpha=0.4)\n",
    "plt.grid(linestyle='--',  alpha=0.4)"
   ]
  },
  {
   "cell_type": "code",
   "execution_count": null,
   "id": "235f874e",
   "metadata": {},
   "outputs": [],
   "source": []
  }
 ],
 "metadata": {
  "kernelspec": {
   "display_name": "Python 3 (ipykernel)",
   "language": "python",
   "name": "python3"
  },
  "language_info": {
   "codemirror_mode": {
    "name": "ipython",
    "version": 3
   },
   "file_extension": ".py",
   "mimetype": "text/x-python",
   "name": "python",
   "nbconvert_exporter": "python",
   "pygments_lexer": "ipython3",
   "version": "3.9.12"
  }
 },
 "nbformat": 4,
 "nbformat_minor": 5
}
